{
 "cells": [
  {
   "cell_type": "code",
   "execution_count": 1,
   "metadata": {},
   "outputs": [
    {
     "name": "stderr",
     "output_type": "stream",
     "text": [
      "Using TensorFlow backend.\n"
     ]
    }
   ],
   "source": [
    "from __future__ import division, print_function, absolute_import\n",
    "\n",
    "import warnings\n",
    "with warnings.catch_warnings():\n",
    "    warnings.filterwarnings(\"ignore\",category=FutureWarning)\n",
    "\n",
    "    import tensorflow as tf\n",
    "    import matplotlib.pyplot as plt\n",
    "\n",
    "    import cv2\n",
    "    import json\n",
    "    import os\n",
    "    import time\n",
    "    import numpy as np\n",
    "    import skimage\n",
    "    import imutils\n",
    "    import pickle\n",
    "    import pandas as pd\n",
    "    from PIL import Image\n",
    "\n",
    "    from datetime import timedelta\n",
    "    from imutils import paths\n",
    "    from skimage import transform\n",
    "    from scipy.misc import imread, imresize\n",
    "    from keras.preprocessing.image import img_to_array\n",
    "    from keras import backend as K\n",
    "    from keras.preprocessing.image import *\n",
    "\n",
    "    from sklearn.preprocessing import LabelBinarizer\n",
    "    from sklearn.model_selection import train_test_split\n",
    "    from sklearn.utils import shuffle\n",
    "\n",
    "pd.set_option('display.max_columns', None)\n",
    "pd.set_option('display.max_rows',None)\n",
    "pd.options.mode.chained_assignment = None"
   ]
  },
  {
   "cell_type": "code",
   "execution_count": null,
   "metadata": {},
   "outputs": [],
   "source": []
  },
  {
   "cell_type": "code",
   "execution_count": null,
   "metadata": {},
   "outputs": [],
   "source": []
  },
  {
   "cell_type": "code",
   "execution_count": null,
   "metadata": {},
   "outputs": [],
   "source": []
  },
  {
   "cell_type": "code",
   "execution_count": 2,
   "metadata": {},
   "outputs": [],
   "source": [
    "#from tensorflow.python.client import device_lib\n",
    "#print(device_lib.list_local_devices())\n",
    "\n",
    "#from keras import backend as K\n",
    "#K.tensorflow_backend._get_available_gpus()"
   ]
  },
  {
   "cell_type": "code",
   "execution_count": null,
   "metadata": {},
   "outputs": [],
   "source": []
  },
  {
   "cell_type": "code",
   "execution_count": 7,
   "metadata": {},
   "outputs": [
    {
     "ename": "IndexError",
     "evalue": "list index out of range",
     "output_type": "error",
     "traceback": [
      "\u001b[1;31m---------------------------------------------------------------------------\u001b[0m",
      "\u001b[1;31mIndexError\u001b[0m                                Traceback (most recent call last)",
      "\u001b[1;32m<ipython-input-7-e78949ee6d3f>\u001b[0m in \u001b[0;36m<module>\u001b[1;34m\u001b[0m\n\u001b[0;32m      4\u001b[0m \u001b[1;33m\u001b[0m\u001b[0m\n\u001b[0;32m      5\u001b[0m \u001b[1;33m\u001b[0m\u001b[0m\n\u001b[1;32m----> 6\u001b[1;33m \u001b[1;32mif\u001b[0m \u001b[1;34m'GPU'\u001b[0m \u001b[1;32min\u001b[0m \u001b[0mK\u001b[0m\u001b[1;33m.\u001b[0m\u001b[0mtensorflow_backend\u001b[0m\u001b[1;33m.\u001b[0m\u001b[0m_get_available_gpus\u001b[0m\u001b[1;33m(\u001b[0m\u001b[1;33m)\u001b[0m\u001b[1;33m[\u001b[0m\u001b[1;36m0\u001b[0m\u001b[1;33m]\u001b[0m\u001b[1;33m:\u001b[0m\u001b[1;33m\u001b[0m\u001b[1;33m\u001b[0m\u001b[0m\n\u001b[0m\u001b[0;32m      7\u001b[0m     \u001b[0mprint\u001b[0m\u001b[1;33m(\u001b[0m\u001b[1;34m'Training on GPU!'\u001b[0m\u001b[1;33m)\u001b[0m\u001b[1;33m\u001b[0m\u001b[1;33m\u001b[0m\u001b[0m\n\u001b[0;32m      8\u001b[0m \u001b[1;32melse\u001b[0m\u001b[1;33m:\u001b[0m\u001b[1;33m\u001b[0m\u001b[1;33m\u001b[0m\u001b[0m\n",
      "\u001b[1;31mIndexError\u001b[0m: list index out of range"
     ]
    }
   ],
   "source": [
    "# Check if GPU is avaiable\n",
    "from keras import backend as K\n",
    "\n",
    "\n",
    "\n",
    "if 'GPU' in K.tensorflow_backend._get_available_gpus()[0]:\n",
    "    print('Training on GPU!')\n",
    "else:\n",
    "    print('Training on CPU, consider using a small number of epochs when training the model')"
   ]
  },
  {
   "cell_type": "code",
   "execution_count": null,
   "metadata": {},
   "outputs": [],
   "source": []
  },
  {
   "cell_type": "code",
   "execution_count": 8,
   "metadata": {},
   "outputs": [
    {
     "name": "stdout",
     "output_type": "stream",
     "text": [
      "total dataset size: 30\n",
      "sample path: animals\\cats\\cats_00991.jpg\n"
     ]
    }
   ],
   "source": [
    "# before you get started, make sure the animals folder is in the same location as this notebook\n",
    "# below I use the \"paths\" package to create a list of all the paths contained in our folder\n",
    "\n",
    "path = 'animals\\\\'\n",
    "image_paths = list(paths.list_images(path))\n",
    "\n",
    "# print dataset size and a sample path from image_paths\n",
    "print('total dataset size: {}'.format(len(image_paths)))\n",
    "print('sample path: {}'.format(image_paths[0]))"
   ]
  },
  {
   "cell_type": "code",
   "execution_count": null,
   "metadata": {},
   "outputs": [],
   "source": []
  },
  {
   "cell_type": "code",
   "execution_count": null,
   "metadata": {},
   "outputs": [],
   "source": []
  },
  {
   "cell_type": "code",
   "execution_count": 9,
   "metadata": {},
   "outputs": [],
   "source": [
    "# Warm-up function. Let's get warmed up with all the libraries by writing a function \\\n",
    "# that shows a rancom image from our dataset\n",
    "\n",
    "def show_random_image(image_paths):\n",
    "    \n",
    "    idx = np.random.randint(len(image_paths))\n",
    "    \n",
    "    img = cv2.imread(image_paths[idx],1) \n",
    "    img = cv2.cvtColor(img, cv2.COLOR_BGR2RGB)\n",
    "    \n",
    "    label = image_paths[idx].split(os.path.sep)[-2]\n",
    "    \n",
    "    print(\"category: \", label)\n",
    "    plt.imshow(img)\n",
    "    plt.xticks([]), plt.yticks([])  # to hide tick values on X and Y axis\n",
    "    plt.show()"
   ]
  },
  {
   "cell_type": "code",
   "execution_count": null,
   "metadata": {},
   "outputs": [],
   "source": []
  },
  {
   "cell_type": "code",
   "execution_count": null,
   "metadata": {},
   "outputs": [],
   "source": []
  },
  {
   "cell_type": "code",
   "execution_count": null,
   "metadata": {},
   "outputs": [],
   "source": []
  },
  {
   "cell_type": "code",
   "execution_count": null,
   "metadata": {},
   "outputs": [],
   "source": []
  },
  {
   "cell_type": "code",
   "execution_count": 12,
   "metadata": {},
   "outputs": [],
   "source": [
    "# Warm-up function. Let's get warmed up with all the libraries by writing a function \\\n",
    "# that shows a rancom image from our dataset\n",
    "\n",
    "def show_random_image(image_paths):\n",
    "    \n",
    "    idx = np.random.randint(len(image_paths))\n",
    "    \n",
    "    img = cv2.imread(image_paths[idx],1) \n",
    "    img = cv2.cvtColor(img, cv2.COLOR_BGR2RGB)\n",
    "    \n",
    "    label = image_paths[idx].split(os.path.sep)[-2]\n",
    "    \n",
    "    print(\"category: \", label)\n",
    "    plt.imshow(img)\n",
    "    plt.xticks([]), plt.yticks([])  # to hide tick values on X and Y axis\n",
    "    plt.show()"
   ]
  },
  {
   "cell_type": "code",
   "execution_count": 13,
   "metadata": {},
   "outputs": [
    {
     "name": "stdout",
     "output_type": "stream",
     "text": [
      "category:  dogs\n"
     ]
    },
    {
     "data": {
      "image/png": "[encoded data removed]",
      "text/plain": [
       "<Figure size 432x288 with 1 Axes>"
      ]
     },
     "metadata": {},
     "output_type": "display_data"
    }
   ],
   "source": [
    "# run the function\n",
    "\n",
    "show_random_image(image_paths)"
   ]
  },
  {
   "cell_type": "code",
   "execution_count": null,
   "metadata": {},
   "outputs": [],
   "source": []
  },
  {
   "cell_type": "code",
   "execution_count": null,
   "metadata": {},
   "outputs": [],
   "source": []
  },
  {
   "cell_type": "code",
   "execution_count": null,
   "metadata": {},
   "outputs": [],
   "source": []
  },
  {
   "cell_type": "code",
   "execution_count": 14,
   "metadata": {},
   "outputs": [],
   "source": [
    "# split dev and test set - DO NOT CHANGE THE SEED & TEST SIZE\n",
    "train_paths, test_paths = train_test_split(image_paths, test_size=0.10, random_state=(19))"
   ]
  },
  {
   "cell_type": "code",
   "execution_count": null,
   "metadata": {},
   "outputs": [],
   "source": []
  },
  {
   "cell_type": "code",
   "execution_count": 15,
   "metadata": {},
   "outputs": [],
   "source": [
    "train_paths = shuffle(train_paths)"
   ]
  },
  {
   "cell_type": "code",
   "execution_count": null,
   "metadata": {},
   "outputs": [],
   "source": []
  },
  {
   "cell_type": "code",
   "execution_count": 16,
   "metadata": {},
   "outputs": [],
   "source": [
    "def load_images(image_paths, json_dump=True, verbose=-1):\n",
    "    \n",
    "    data=[]\n",
    "    labels=[]\n",
    "    \n",
    "    R = []\n",
    "    G = []\n",
    "    B = []\n",
    "    \n",
    "    for (i, image_path) in enumerate(image_paths):\n",
    "        \n",
    "        image = cv2.imread(image_paths[i],1) \n",
    "        image = cv2.cvtColor(image, cv2.COLOR_BGR2RGB)\n",
    "        \n",
    "        label = image_path.split(os.path.sep)[-2]\n",
    "        (r, b, g) = cv2.mean(image)[:3]\n",
    "        \n",
    "        R.append(r)\n",
    "        B.append(b)\n",
    "        G.append(g)\n",
    "        \n",
    "        data.append(image)\n",
    "        labels.append(label)\n",
    "\n",
    "        if verbose > 0 and i > 0 and (i + 1) % verbose == 0:\n",
    "            print(\"[INFO] image loaded {}/{}\".format(i + 1,len(image_paths)))\n",
    "\n",
    "    RGB_dict = {\"R\": np.mean(R), \"G\": np.mean(G), \"B\": np.mean(B)}\n",
    "    \n",
    "    if json_dump:\n",
    "        f = open(\"RGB_means.json\", \"w\")\n",
    "        f.write(json.dumps(RGB_dict))\n",
    "        f.close()\n",
    "            \n",
    "        print(\"[INFO] mean RGB values saved to disk\")\n",
    "\n",
    "    return (np.array(data), np.array(labels), RGB_dict)"
   ]
  },
  {
   "cell_type": "code",
   "execution_count": null,
   "metadata": {},
   "outputs": [],
   "source": []
  },
  {
   "cell_type": "code",
   "execution_count": 17,
   "metadata": {},
   "outputs": [],
   "source": [
    "#\"background_classification_RGB_no_val.json\""
   ]
  },
  {
   "cell_type": "code",
   "execution_count": null,
   "metadata": {},
   "outputs": [],
   "source": []
  },
  {
   "cell_type": "code",
   "execution_count": 18,
   "metadata": {},
   "outputs": [],
   "source": [
    "def load_images(image_paths, json_dump=True, verbose=-1):\n",
    "    \n",
    "    data=[]\n",
    "    labels=[]\n",
    "    \n",
    "    R = []\n",
    "    G = []\n",
    "    B = []\n",
    "    \n",
    "    for (i, image_path) in enumerate(image_paths):\n",
    "        \n",
    "        image = cv2.imread(image_paths[i],1) \n",
    "        image = cv2.cvtColor(image, cv2.COLOR_BGR2RGB)\n",
    "        \n",
    "        label = image_path.split(os.path.sep)[-2]\n",
    "        (r, b, g) = cv2.mean(image)[:3]\n",
    "        \n",
    "        R.append(r)\n",
    "        B.append(b)\n",
    "        G.append(g)\n",
    "        \n",
    "        data.append(image)\n",
    "        labels.append(label)\n",
    "\n",
    "        if verbose > 0 and i > 0 and (i + 1) % verbose == 0:\n",
    "            print(\"[INFO] image loaded {}/{}\".format(i + 1,len(image_paths)))\n",
    "\n",
    "    RGB_dict = {\"R\": np.mean(R), \"G\": np.mean(G), \"B\": np.mean(B)}\n",
    "    \n",
    "    if json_dump:\n",
    "        f = open(\"background_classification_RGB_no_val.json\", \"w\")\n",
    "        f.write(json.dumps(RGB_dict))\n",
    "        f.close()\n",
    "            \n",
    "        print(\"[INFO] mean RGB values saved to disk\")\n",
    "\n",
    "    return (np.array(data), np.array(labels), RGB_dict)"
   ]
  },
  {
   "cell_type": "code",
   "execution_count": null,
   "metadata": {},
   "outputs": [],
   "source": []
  },
  {
   "cell_type": "code",
   "execution_count": 19,
   "metadata": {},
   "outputs": [
    {
     "name": "stdout",
     "output_type": "stream",
     "text": [
      "[INFO] mean RGB values saved to disk\n"
     ]
    }
   ],
   "source": [
    "# run the function\n",
    "images, labels, RGB_dict = load_images(train_paths)"
   ]
  },
  {
   "cell_type": "code",
   "execution_count": null,
   "metadata": {},
   "outputs": [],
   "source": []
  },
  {
   "cell_type": "code",
   "execution_count": 20,
   "metadata": {},
   "outputs": [],
   "source": [
    "# the function below resizes the images to even dimensions\n",
    "# this is more of CS 101 / cv2 problem so I'm just going to give you the code\n",
    "\n",
    "def resize_images(images, width, height, verbose=-1):\n",
    "    \n",
    "    resized_images = []\n",
    "    \n",
    "    for i in range(len(images)):\n",
    "        (h, w) = images[i].shape[:2]\n",
    "        inter = cv2.INTER_AREA\n",
    "        dW = 0\n",
    "        dH = 0\n",
    "        \n",
    "        if w < h:\n",
    "            image = imutils.resize(images[i], width=width, inter=inter)\n",
    "            dH = int((image.shape[0] - height) / 2.0)\n",
    "            \n",
    "        else:\n",
    "            image = imutils.resize(images[i], height=height, inter=inter)\n",
    "            dW = int((image.shape[1] - width) / 2.0)\n",
    "\n",
    "        (h, w) = image.shape[:2]\n",
    "        image = image[dH:h - dH, dW:w - dW]\n",
    "\n",
    "        image = cv2.resize(image, (width, height), interpolation=inter)\n",
    "        resized_images.append(image)\n",
    "        \n",
    "        if verbose > 0 and i > 0 and (i + 1) % verbose == 0:\n",
    "            print(\"[INFO] images resized {}/{}\".format(i + 1,len(images)))\n",
    "        \n",
    "    return(np.array(resized_images))"
   ]
  },
  {
   "cell_type": "code",
   "execution_count": null,
   "metadata": {},
   "outputs": [],
   "source": []
  },
  {
   "cell_type": "code",
   "execution_count": null,
   "metadata": {},
   "outputs": [],
   "source": []
  },
  {
   "cell_type": "code",
   "execution_count": 21,
   "metadata": {},
   "outputs": [],
   "source": [
    "# resize the images to 64X64\n",
    "resized_images = resize_images(images, 64, 64)"
   ]
  },
  {
   "cell_type": "code",
   "execution_count": null,
   "metadata": {},
   "outputs": [],
   "source": []
  },
  {
   "cell_type": "code",
   "execution_count": 22,
   "metadata": {},
   "outputs": [
    {
     "data": {
      "image/png": "[encoded data removed]",
      "text/plain": [
       "<Figure size 432x288 with 1 Axes>"
      ]
     },
     "metadata": {},
     "output_type": "display_data"
    }
   ],
   "source": [
    "plt.imshow(resized_images[0])\n",
    "plt.xticks([]), plt.yticks([])  # to hide tick values on X and Y axis\n",
    "plt.show()"
   ]
  },
  {
   "cell_type": "code",
   "execution_count": 23,
   "metadata": {},
   "outputs": [],
   "source": [
    "def process_images_RGB(images, RGB_means, verbose=-1):\n",
    "\n",
    "    processed_images = []\n",
    "\n",
    "    rMean = RGB_means['R']\n",
    "    gMean = RGB_means['G']\n",
    "    bMean = RGB_means['B']\n",
    "    \n",
    "    for i in range(len(images)):\n",
    "\n",
    "        (R, G, B) = cv2.split(images[i].astype(\"float32\"))\n",
    "\n",
    "        R -= rMean\n",
    "        G -= gMean\n",
    "        B -= bMean\n",
    "\n",
    "        image = cv2.merge([R, G, B])\n",
    "        processed = img_to_array(image)\n",
    "        processed_images.append(processed)\n",
    "        \n",
    "        if verbose > 0 and i > 0 and (i + 1) % verbose == 0:\n",
    "            print(\"[INFO] images processed {}/{}\".format(i + 1,len(images)))\n",
    "    \n",
    "    return(np.array(processed_images))"
   ]
  },
  {
   "cell_type": "code",
   "execution_count": null,
   "metadata": {},
   "outputs": [],
   "source": []
  },
  {
   "cell_type": "code",
   "execution_count": null,
   "metadata": {},
   "outputs": [],
   "source": []
  },
  {
   "cell_type": "code",
   "execution_count": null,
   "metadata": {},
   "outputs": [],
   "source": []
  },
  {
   "cell_type": "code",
   "execution_count": 26,
   "metadata": {},
   "outputs": [],
   "source": [
    "def process_images_RGB(images, RGB_means, verbose=-1):\n",
    "\n",
    "    processed_images = []\n",
    "\n",
    "    rMean = RGB_means['R']\n",
    "    gMean = RGB_means['G']\n",
    "    bMean = RGB_means['B']\n",
    "    \n",
    "    for i in range(len(images)):\n",
    "\n",
    "        (R, G, B) = cv2.split(images[i].astype(\"float32\"))\n",
    "\n",
    "        R -= rMean\n",
    "        G -= gMean\n",
    "        B -= bMean\n",
    "\n",
    "        image = cv2.merge([R, G, B])\n",
    "        processed = img_to_array(image)\n",
    "        processed_images.append(processed)\n",
    "        \n",
    "        if verbose > 0 and i > 0 and (i + 1) % verbose == 0:\n",
    "            print(\"[INFO] images processed {}/{}\".format(i + 1,len(images)))\n",
    "    \n",
    "    return(np.array(processed_images))"
   ]
  },
  {
   "cell_type": "code",
   "execution_count": 27,
   "metadata": {},
   "outputs": [],
   "source": [
    "processed_images = process_images_RGB(resized_images, RGB_dict, verbose=1000)"
   ]
  },
  {
   "cell_type": "code",
   "execution_count": null,
   "metadata": {},
   "outputs": [],
   "source": []
  },
  {
   "cell_type": "code",
   "execution_count": 28,
   "metadata": {},
   "outputs": [],
   "source": [
    "train_x, val_x, train_y, val_y = train_test_split(processed_images, labels, test_size=0.10, random_state=(19))"
   ]
  },
  {
   "cell_type": "code",
   "execution_count": null,
   "metadata": {},
   "outputs": [],
   "source": []
  },
  {
   "cell_type": "code",
   "execution_count": null,
   "metadata": {},
   "outputs": [],
   "source": []
  },
  {
   "cell_type": "code",
   "execution_count": null,
   "metadata": {},
   "outputs": [],
   "source": []
  },
  {
   "cell_type": "code",
   "execution_count": null,
   "metadata": {},
   "outputs": [],
   "source": []
  },
  {
   "cell_type": "code",
   "execution_count": 29,
   "metadata": {},
   "outputs": [],
   "source": [
    "# the function below augment training dataset by creating random variations of our images\n",
    "# the code itself is trivial and repetitive so I'm just gonna give it to you\n",
    "# we can go over everything during the next video call\n",
    "\n",
    "\n",
    "def augment_images(data, data_labels, augementation_factor=1, random_rotation=True, flip_image=True,\n",
    "                   random_shear=False, random_shift=False, random_zoom=False, verbose=-1):\n",
    "    \n",
    "    images = []\n",
    "    labels = []\n",
    "    \n",
    "    # Create a copy of the original images and flip the orginal image horziontally. \n",
    "    # This will duplicate the size of our train set.\n",
    "    \n",
    "    for idx in range(len(data)):\n",
    "        images.append(data[idx])\n",
    "        labels.append(data_labels[idx])\n",
    "        \n",
    "        if flip_image:\n",
    "            images.append(image.flip_axis(data[idx], axis=1))\n",
    "            labels.append(data_labels[idx])\n",
    "    \n",
    "    images, labels = np.array(images), np.array(labels)\n",
    "            \n",
    "    augmented_images = []\n",
    "    augmented_image_labels = []        \n",
    "    \n",
    "    for i in range(len(images)):\n",
    "        \n",
    "        augmented_images.append(images[i])\n",
    "        augmented_image_labels.append(labels[i])\n",
    "        \n",
    "        for new_img in range(0, augementation_factor):\n",
    "\n",
    "            if random_rotation:\n",
    "                augmented_images.append(image.random_rotation(images[i], 35, \n",
    "                                        row_axis=0, col_axis=1, channel_axis=2))\n",
    "                augmented_image_labels.append(labels[i])\n",
    "\n",
    "            if random_shear:\n",
    "                augmented_images.append(image.random_shear(images[i], 0.175, \n",
    "                                        row_axis=0, col_axis=1, channel_axis=2))\n",
    "                augmented_image_labels.append(labels[i])\n",
    "\n",
    "            if random_shift:\n",
    "                augmented_images.append(image.random_shift(images[i], 0.1, 0.1,\n",
    "                                        row_axis=0, col_axis=1, channel_axis=2))\n",
    "                augmented_image_labels.append(labels[i])\n",
    "\n",
    "            if random_zoom:\n",
    "                augmented_images.append(image.random_zoom(images[i], (0.8, 1), \n",
    "                                        row_axis=0, col_axis=1, channel_axis=2,\n",
    "                                                        fill_mode = 'nearest'))\n",
    "                augmented_image_labels.append(labels[i])\n",
    "                \n",
    "        if verbose > 0 and i > 0 and (i + 1) % verbose == 0:\n",
    "            print(\"[INFO] images processed {}/{}\".format(i + 1,len(images)))      \n",
    "\n",
    "    print(\"[INFO] image aumentation completed.\")        \n",
    "    return np.array(augmented_images), np.array(augmented_image_labels)\n"
   ]
  },
  {
   "cell_type": "code",
   "execution_count": null,
   "metadata": {},
   "outputs": [],
   "source": []
  },
  {
   "cell_type": "code",
   "execution_count": 30,
   "metadata": {},
   "outputs": [
    {
     "name": "stdout",
     "output_type": "stream",
     "text": [
      "[INFO] image aumentation completed.\n"
     ]
    }
   ],
   "source": [
    "train_x_aug, train_y_aug = augment_images(train_x, train_y)"
   ]
  },
  {
   "cell_type": "code",
   "execution_count": null,
   "metadata": {},
   "outputs": [],
   "source": []
  },
  {
   "cell_type": "code",
   "execution_count": 31,
   "metadata": {},
   "outputs": [
    {
     "name": "stdout",
     "output_type": "stream",
     "text": [
      "[INFO] num of images before augmentation: 24\n",
      "[INFO] num of images after augmentation: 96\n"
     ]
    }
   ],
   "source": [
    "print(\"[INFO] num of images before augmentation: {}\".format(len(train_x)))\n",
    "print(\"[INFO] num of images after augmentation: {}\".format(len(train_x_aug)))"
   ]
  },
  {
   "cell_type": "code",
   "execution_count": null,
   "metadata": {},
   "outputs": [],
   "source": []
  },
  {
   "cell_type": "code",
   "execution_count": 32,
   "metadata": {},
   "outputs": [],
   "source": [
    "ind_list = [i for i in range(len(train_x_aug))]\n",
    "ind_list = shuffle(ind_list)\n",
    "\n",
    "train_x_aug  = train_x_aug[ind_list, :,:,:]\n",
    "train_y_aug = train_y_aug[ind_list,]"
   ]
  },
  {
   "cell_type": "code",
   "execution_count": null,
   "metadata": {},
   "outputs": [],
   "source": []
  },
  {
   "cell_type": "code",
   "execution_count": 33,
   "metadata": {},
   "outputs": [
    {
     "name": "stdout",
     "output_type": "stream",
     "text": [
      "[INFO] class labels:  ['cats', 'dogs', 'pandas']\n"
     ]
    }
   ],
   "source": [
    "class_labels = list(np.unique((train_y_aug)))\n",
    "print('[INFO] class labels: ', class_labels)\n",
    "#print('[INFO] test set size: ',str(len(val_y)))\n",
    "#print('[INFO] test dataset: ',val_y)\n",
    "numClasses = len(class_labels)\n",
    "height, width, depth = train_x_aug[0].shape"
   ]
  },
  {
   "cell_type": "code",
   "execution_count": 34,
   "metadata": {},
   "outputs": [
    {
     "data": {
      "text/plain": [
       "Counter({'cats': 28, 'dogs': 36, 'pandas': 32})"
      ]
     },
     "execution_count": 34,
     "metadata": {},
     "output_type": "execute_result"
    }
   ],
   "source": [
    "import collections\n",
    "collections.Counter(train_y_aug)"
   ]
  },
  {
   "cell_type": "code",
   "execution_count": null,
   "metadata": {},
   "outputs": [],
   "source": []
  },
  {
   "cell_type": "code",
   "execution_count": null,
   "metadata": {},
   "outputs": [],
   "source": []
  },
  {
   "cell_type": "code",
   "execution_count": 35,
   "metadata": {},
   "outputs": [],
   "source": [
    "from sklearn.preprocessing import LabelBinarizer\n",
    "\n",
    "# encode class labels\n",
    "lb = LabelBinarizer()\n",
    "trainY = lb.fit_transform(train_y_aug)\n",
    "valY = lb.transform(val_y)"
   ]
  },
  {
   "cell_type": "code",
   "execution_count": null,
   "metadata": {},
   "outputs": [],
   "source": []
  },
  {
   "cell_type": "code",
   "execution_count": 39,
   "metadata": {},
   "outputs": [
    {
     "name": "stdout",
     "output_type": "stream",
     "text": [
      "[INFO] importing libraries\n"
     ]
    }
   ],
   "source": [
    "from keras.optimizers import Adam, SGD\n",
    "from keras.callbacks import EarlyStopping, ModelCheckpoint\n",
    "from build_shallownet import *"
   ]
  },
  {
   "cell_type": "code",
   "execution_count": null,
   "metadata": {},
   "outputs": [],
   "source": []
  },
  {
   "cell_type": "code",
   "execution_count": null,
   "metadata": {},
   "outputs": [],
   "source": []
  },
  {
   "cell_type": "code",
   "execution_count": 40,
   "metadata": {},
   "outputs": [
    {
     "name": "stdout",
     "output_type": "stream",
     "text": [
      "[INFO] building model\n",
      "WARNING:tensorflow:From C:\\Users\\Prashamsh\\Anaconda3\\lib\\site-packages\\tensorflow\\python\\framework\\op_def_library.py:263: colocate_with (from tensorflow.python.framework.ops) is deprecated and will be removed in a future version.\n",
      "Instructions for updating:\n",
      "Colocations handled automatically by placer.\n",
      "WARNING:tensorflow:From C:\\Users\\Prashamsh\\Anaconda3\\lib\\site-packages\\keras\\backend\\tensorflow_backend.py:3445: calling dropout (from tensorflow.python.ops.nn_ops) with keep_prob is deprecated and will be removed in a future version.\n",
      "Instructions for updating:\n",
      "Please use `rate` instead of `keep_prob`. Rate should be set to `rate = 1 - keep_prob`.\n",
      "[INFO] model built\n"
     ]
    }
   ],
   "source": [
    "# model\n",
    "print(\"[INFO] building model\")\n",
    "model = ShallowNet.build(width=width, height=height, depth=depth,\n",
    "                         numClasses=len(class_labels), reg=0.0001, dropoutRate=0.3)\n",
    "adam = SGD(lr=0.005)#, momentum=0.8, nesterov=True)\n",
    "model.compile(loss='categorical_crossentropy', optimizer = adam, metrics = ['accuracy'])\n",
    "print(\"[INFO] model built\")"
   ]
  },
  {
   "cell_type": "code",
   "execution_count": null,
   "metadata": {},
   "outputs": [],
   "source": []
  },
  {
   "cell_type": "code",
   "execution_count": null,
   "metadata": {},
   "outputs": [],
   "source": []
  },
  {
   "cell_type": "code",
   "execution_count": 41,
   "metadata": {},
   "outputs": [
    {
     "name": "stdout",
     "output_type": "stream",
     "text": [
      "[INFO] training neural network\n",
      "WARNING:tensorflow:From C:\\Users\\Prashamsh\\Anaconda3\\lib\\site-packages\\tensorflow\\python\\ops\\math_ops.py:3066: to_int32 (from tensorflow.python.ops.math_ops) is deprecated and will be removed in a future version.\n",
      "Instructions for updating:\n",
      "Use tf.cast instead.\n",
      "Train on 96 samples, validate on 3 samples\n",
      "Epoch 1/50\n",
      "96/96 [==============================] - 20s 203ms/step - loss: 1.8769 - acc: 0.3646 - val_loss: 2.6966 - val_acc: 0.3333\n",
      "\n",
      "Epoch 00001: val_loss improved from inf to 2.69663, saving model to shallownet_weights.hdf5\n",
      "Epoch 2/50\n",
      "96/96 [==============================] - 14s 146ms/step - loss: 0.7123 - acc: 0.8229 - val_loss: 2.2535 - val_acc: 0.3333\n",
      "\n",
      "Epoch 00002: val_loss improved from 2.69663 to 2.25349, saving model to shallownet_weights.hdf5\n",
      "Epoch 3/50\n",
      "96/96 [==============================] - 13s 133ms/step - loss: 0.5214 - acc: 0.8958 - val_loss: 2.4125 - val_acc: 0.0000e+00\n",
      "\n",
      "Epoch 00003: val_loss did not improve from 2.25349\n",
      "Epoch 4/50\n",
      "96/96 [==============================] - 14s 141ms/step - loss: 0.3839 - acc: 0.9688 - val_loss: 1.9521 - val_acc: 0.0000e+00\n",
      "\n",
      "Epoch 00004: val_loss improved from 2.25349 to 1.95207, saving model to shallownet_weights.hdf5\n",
      "Epoch 5/50\n",
      "96/96 [==============================] - 13s 139ms/step - loss: 0.3448 - acc: 0.9792 - val_loss: 1.9246 - val_acc: 0.0000e+00\n",
      "\n",
      "Epoch 00005: val_loss improved from 1.95207 to 1.92463, saving model to shallownet_weights.hdf5\n",
      "Epoch 6/50\n",
      "96/96 [==============================] - 14s 150ms/step - loss: 0.3472 - acc: 0.9792 - val_loss: 1.8893 - val_acc: 0.3333\n",
      "\n",
      "Epoch 00006: val_loss improved from 1.92463 to 1.88925, saving model to shallownet_weights.hdf5\n",
      "Epoch 7/50\n",
      "96/96 [==============================] - 15s 154ms/step - loss: 0.3015 - acc: 1.0000 - val_loss: 2.0774 - val_acc: 0.3333\n",
      "\n",
      "Epoch 00007: val_loss did not improve from 1.88925\n",
      "Epoch 8/50\n",
      "96/96 [==============================] - 14s 142ms/step - loss: 0.3121 - acc: 0.9896 - val_loss: 1.8182 - val_acc: 0.3333\n",
      "\n",
      "Epoch 00008: val_loss improved from 1.88925 to 1.81822, saving model to shallownet_weights.hdf5\n",
      "Epoch 9/50\n",
      "96/96 [==============================] - 14s 146ms/step - loss: 0.3166 - acc: 1.0000 - val_loss: 1.8553 - val_acc: 0.0000e+00\n",
      "\n",
      "Epoch 00009: val_loss did not improve from 1.81822\n",
      "Epoch 10/50\n",
      "96/96 [==============================] - 13s 136ms/step - loss: 0.2760 - acc: 1.0000 - val_loss: 1.9450 - val_acc: 0.0000e+00\n",
      "\n",
      "Epoch 00010: val_loss did not improve from 1.81822\n",
      "Epoch 11/50\n",
      "96/96 [==============================] - 13s 135ms/step - loss: 0.2915 - acc: 1.0000 - val_loss: 2.0092 - val_acc: 0.0000e+00\n",
      "\n",
      "Epoch 00011: val_loss did not improve from 1.81822\n",
      "Epoch 12/50\n",
      "96/96 [==============================] - 14s 142ms/step - loss: 0.2784 - acc: 1.0000 - val_loss: 2.0465 - val_acc: 0.0000e+00\n",
      "\n",
      "Epoch 00012: val_loss did not improve from 1.81822\n",
      "Epoch 13/50\n",
      "96/96 [==============================] - 16s 164ms/step - loss: 0.2920 - acc: 1.0000 - val_loss: 2.0693 - val_acc: 0.3333\n",
      "\n",
      "Epoch 00013: val_loss did not improve from 1.81822\n",
      "Epoch 14/50\n",
      "96/96 [==============================] - 13s 132ms/step - loss: 0.2874 - acc: 1.0000 - val_loss: 2.2062 - val_acc: 0.3333\n",
      "\n",
      "Epoch 00014: val_loss did not improve from 1.81822\n",
      "Epoch 15/50\n",
      "96/96 [==============================] - 15s 160ms/step - loss: 0.2789 - acc: 1.0000 - val_loss: 2.1692 - val_acc: 0.3333\n",
      "\n",
      "Epoch 00015: val_loss did not improve from 1.81822\n",
      "Epoch 16/50\n",
      "96/96 [==============================] - 17s 178ms/step - loss: 0.2701 - acc: 1.0000 - val_loss: 2.1404 - val_acc: 0.3333\n",
      "\n",
      "Epoch 00016: val_loss did not improve from 1.81822\n",
      "Epoch 17/50\n",
      "96/96 [==============================] - 15s 161ms/step - loss: 0.2937 - acc: 0.9896 - val_loss: 2.2379 - val_acc: 0.3333\n",
      "\n",
      "Epoch 00017: val_loss did not improve from 1.81822\n",
      "Epoch 18/50\n",
      "96/96 [==============================] - 13s 132ms/step - loss: 0.2709 - acc: 1.0000 - val_loss: 2.2273 - val_acc: 0.3333\n",
      "\n",
      "Epoch 00018: val_loss did not improve from 1.81822\n",
      "Epoch 19/50\n",
      "96/96 [==============================] - 17s 173ms/step - loss: 0.2747 - acc: 1.0000 - val_loss: 2.1729 - val_acc: 0.0000e+00\n",
      "\n",
      "Epoch 00019: val_loss did not improve from 1.81822\n",
      "Epoch 20/50\n",
      "96/96 [==============================] - 16s 162ms/step - loss: 0.2778 - acc: 0.9896 - val_loss: 2.2273 - val_acc: 0.0000e+00\n",
      "\n",
      "Epoch 00020: val_loss did not improve from 1.81822\n",
      "Epoch 21/50\n",
      "96/96 [==============================] - 15s 153ms/step - loss: 0.2783 - acc: 1.0000 - val_loss: 2.2229 - val_acc: 0.3333\n",
      "\n",
      "Epoch 00021: val_loss did not improve from 1.81822\n",
      "Epoch 22/50\n",
      "96/96 [==============================] - 13s 139ms/step - loss: 0.2683 - acc: 1.0000 - val_loss: 2.2508 - val_acc: 0.3333\n",
      "\n",
      "Epoch 00022: val_loss did not improve from 1.81822\n",
      "Epoch 23/50\n",
      "96/96 [==============================] - 14s 147ms/step - loss: 0.2685 - acc: 1.0000 - val_loss: 2.2240 - val_acc: 0.0000e+00\n",
      "\n",
      "Epoch 00023: val_loss did not improve from 1.81822\n",
      "[INFO] training completed\n"
     ]
    }
   ],
   "source": [
    "print(\"[INFO] training neural network\")\n",
    "checkpoint = ModelCheckpoint(\"shallownet_weights.hdf5\", monitor=\"val_loss\", save_best_only=True, verbose=1)\n",
    "early_stopping = EarlyStopping(monitor='val_loss', patience=15)\n",
    "\n",
    "\n",
    "model_hist = model.fit(train_x_aug, trainY, batch_size = 32, epochs = 50, validation_data=(val_x, valY), callbacks=[checkpoint, early_stopping])\n",
    "print(\"[INFO] training completed\")"
   ]
  },
  {
   "cell_type": "code",
   "execution_count": null,
   "metadata": {},
   "outputs": [],
   "source": []
  },
  {
   "cell_type": "code",
   "execution_count": null,
   "metadata": {},
   "outputs": [],
   "source": []
  },
  {
   "cell_type": "markdown",
   "metadata": {},
   "source": [
    "# Testing"
   ]
  },
  {
   "cell_type": "code",
   "execution_count": null,
   "metadata": {},
   "outputs": [],
   "source": []
  },
  {
   "cell_type": "code",
   "execution_count": 42,
   "metadata": {},
   "outputs": [
    {
     "name": "stdout",
     "output_type": "stream",
     "text": [
      "[INFO] loading pre-trained network\n"
     ]
    }
   ],
   "source": [
    "from keras.models import load_model\n",
    "\n",
    "print(\"[INFO] loading pre-trained network\")\n",
    "model = load_model(\"shallownet_weights.hdf5\")"
   ]
  },
  {
   "cell_type": "code",
   "execution_count": null,
   "metadata": {},
   "outputs": [],
   "source": []
  },
  {
   "cell_type": "code",
   "execution_count": 43,
   "metadata": {},
   "outputs": [],
   "source": [
    "class_labels = ['cats', 'dogs', 'pandas']"
   ]
  },
  {
   "cell_type": "code",
   "execution_count": null,
   "metadata": {},
   "outputs": [],
   "source": []
  },
  {
   "cell_type": "code",
   "execution_count": null,
   "metadata": {},
   "outputs": [],
   "source": []
  },
  {
   "cell_type": "code",
   "execution_count": 44,
   "metadata": {},
   "outputs": [],
   "source": [
    "def load_data(test_paths, verbose=-1):\n",
    "    \n",
    "    data=[]\n",
    "    labels=[]\n",
    "    \n",
    "    for (i, image_path) in enumerate(image_paths):\n",
    "        \n",
    "        image = cv2.imread(image_paths[i],1) \n",
    "        image = cv2.cvtColor(image, cv2.COLOR_BGR2RGB)\n",
    "        \n",
    "        label = image_path.split(os.path.sep)[-2]  \n",
    "        \n",
    "        data.append(image)\n",
    "        labels.append(label)\n",
    "        \n",
    "        if verbose > 0 and i > 0 and (i + 1) % verbose == 0:\n",
    "            print(\"[INFO] images loaded {}/{}\".format(i + 1,len(image_paths)))\n",
    "\n",
    "        \n",
    "    return (np.array(data), np.array(labels))"
   ]
  },
  {
   "cell_type": "code",
   "execution_count": null,
   "metadata": {},
   "outputs": [],
   "source": []
  },
  {
   "cell_type": "code",
   "execution_count": null,
   "metadata": {},
   "outputs": [],
   "source": []
  },
  {
   "cell_type": "code",
   "execution_count": null,
   "metadata": {},
   "outputs": [],
   "source": []
  },
  {
   "cell_type": "code",
   "execution_count": 45,
   "metadata": {},
   "outputs": [],
   "source": [
    "def process_test_data(images_paths, RGB_dict_path, verbose=10):\n",
    "    \n",
    "        with open(RGB_dict_path) as f:\n",
    "            loaded_RGB_means = json.load(f)\n",
    "            print(\"[INFO] JSON file with RGB means loaded\")\n",
    "\n",
    "        # load and process test dataset\n",
    "        test_data, test_labels = load_data(images_paths, verbose=verbose)\n",
    "        test_resized_images = resize_images(test_data, 64, 64, verbose=verbose)\n",
    "        test_processed_images = process_images_RGB(test_resized_images, loaded_RGB_means, verbose=verbose)\n",
    "\n",
    "        return(test_data, test_processed_images, test_labels)"
   ]
  },
  {
   "cell_type": "code",
   "execution_count": null,
   "metadata": {},
   "outputs": [],
   "source": []
  },
  {
   "cell_type": "code",
   "execution_count": 46,
   "metadata": {},
   "outputs": [],
   "source": [
    "RGB_dict_path = 'RGB_means.json'"
   ]
  },
  {
   "cell_type": "code",
   "execution_count": null,
   "metadata": {},
   "outputs": [],
   "source": []
  },
  {
   "cell_type": "code",
   "execution_count": 48,
   "metadata": {},
   "outputs": [
    {
     "name": "stdout",
     "output_type": "stream",
     "text": [
      "[INFO] JSON file with RGB means loaded\n"
     ]
    }
   ],
   "source": [
    "test_data, test_x, test_y = process_test_data(test_paths, RGB_dict_path, verbose=500)"
   ]
  },
  {
   "cell_type": "code",
   "execution_count": null,
   "metadata": {},
   "outputs": [],
   "source": []
  },
  {
   "cell_type": "code",
   "execution_count": 49,
   "metadata": {},
   "outputs": [],
   "source": [
    "def encode_pred_labels(preds):\n",
    "    \n",
    "    predicted_labels = []\n",
    "    [predicted_labels.append(class_labels[i]) for i in preds]\n",
    "\n",
    "    return predicted_labels"
   ]
  },
  {
   "cell_type": "code",
   "execution_count": null,
   "metadata": {},
   "outputs": [],
   "source": []
  },
  {
   "cell_type": "code",
   "execution_count": 50,
   "metadata": {},
   "outputs": [],
   "source": [
    "preds = model.predict(test_x).argmax(axis=1)\n",
    "\n",
    "predicted_labels = encode_pred_labels(preds)"
   ]
  },
  {
   "cell_type": "code",
   "execution_count": null,
   "metadata": {},
   "outputs": [],
   "source": []
  },
  {
   "cell_type": "code",
   "execution_count": 51,
   "metadata": {},
   "outputs": [
    {
     "name": "stdout",
     "output_type": "stream",
     "text": [
      "Classification report\n",
      "\n",
      "              precision    recall  f1-score   support\n",
      "\n",
      "        cats       0.90      0.90      0.90        10\n",
      "        dogs       0.83      1.00      0.91        10\n",
      "      pandas       1.00      0.80      0.89        10\n",
      "\n",
      "   micro avg       0.90      0.90      0.90        30\n",
      "   macro avg       0.91      0.90      0.90        30\n",
      "weighted avg       0.91      0.90      0.90        30\n",
      "\n"
     ]
    }
   ],
   "source": [
    "from sklearn.metrics import classification_report\n",
    "print(\"Classification report\\n\")\n",
    "print(classification_report(test_y, predicted_labels))"
   ]
  },
  {
   "cell_type": "code",
   "execution_count": null,
   "metadata": {},
   "outputs": [],
   "source": []
  },
  {
   "cell_type": "code",
   "execution_count": null,
   "metadata": {},
   "outputs": [],
   "source": []
  },
  {
   "cell_type": "code",
   "execution_count": 52,
   "metadata": {},
   "outputs": [],
   "source": [
    "def show_random_images(test_data, predictions, class_labels, n=5):\n",
    "\n",
    "    for i in range(n):\n",
    "        # generate random index\n",
    "        randm_idx = randint(0, len(test_data))\n",
    "\n",
    "        # display random test image with superimposed predictions\n",
    "        print(\"[PREDICTION] \", class_labels[predictions[randm_idx]])\n",
    "        \n",
    "        image = cv2.cvtColor(np.array(test_data[randm_idx]), cv2.COLOR_BGR2RGB)\n",
    "        cv2.putText(image, \"Pred.: {}\".format(class_labels[predictions[randm_idx]]),\n",
    "                    (10, 30), cv2.FONT_HERSHEY_SIMPLEX, 0.7, (0,0,255), 2)\n",
    "        cv2.imshow(\"Image\", image)\n",
    "        cv2.waitKey(0)"
   ]
  },
  {
   "cell_type": "code",
   "execution_count": null,
   "metadata": {},
   "outputs": [],
   "source": [
    "from random import randint"
   ]
  },
  {
   "cell_type": "code",
   "execution_count": null,
   "metadata": {},
   "outputs": [],
   "source": [
    "show_random_images(test_data, preds, class_labels, n=5)"
   ]
  },
  {
   "cell_type": "code",
   "execution_count": null,
   "metadata": {},
   "outputs": [],
   "source": []
  },
  {
   "cell_type": "code",
   "execution_count": null,
   "metadata": {},
   "outputs": [],
   "source": [
    "# visualize model architecture and save image\n",
    "import os\n",
    "os.environ[\"PATH\"] += os.pathsep + 'C:\\Anaconda3\\pkgs\\graphviz-2.38-hfd603c8_2\\Library\\bin\\graphviz'\n",
    "\n",
    "from keras.utils import plot_model\n",
    "plot_model(model, to_file='model.png', show_shapes=True, show_layer_names=True)"
   ]
  },
  {
   "cell_type": "code",
   "execution_count": null,
   "metadata": {},
   "outputs": [],
   "source": []
  },
  {
   "cell_type": "code",
   "execution_count": null,
   "metadata": {},
   "outputs": [],
   "source": [
    "\"\"\"\n",
    "#shuffle test data\n",
    "\n",
    "ind_list = [i for i in range(len(test_data))]\n",
    "ind_list = shuffle(ind_list)\n",
    "\n",
    "test_data  = test_data[ind_list]\n",
    "test_y = test_y[ind_list]\n",
    "preds = preds[ind_list]\n",
    "\"\"\""
   ]
  },
  {
   "cell_type": "code",
   "execution_count": null,
   "metadata": {},
   "outputs": [],
   "source": [
    "\"\"\"\n",
    "# display predictions and ground truth\n",
    "\n",
    "for (image, true_y, y_hat) in zip(test_data[200:205], test_y[200:205], preds[200:205]):\n",
    "    \n",
    "    print(\"predicted: \", class_labels[y_hat])\n",
    "    print(\"actual: \", true_y)\n",
    "    \n",
    "    plt.imshow(image)\n",
    "    plt.xticks([]), plt.yticks([])  # to hide tick values on X and Y axis\n",
    "    plt.show()\n",
    "\"\"\""
   ]
  },
  {
   "cell_type": "code",
   "execution_count": null,
   "metadata": {},
   "outputs": [],
   "source": []
  },
  {
   "cell_type": "code",
   "execution_count": null,
   "metadata": {},
   "outputs": [],
   "source": []
  },
  {
   "cell_type": "code",
   "execution_count": null,
   "metadata": {},
   "outputs": [],
   "source": []
  },
  {
   "cell_type": "code",
   "execution_count": null,
   "metadata": {},
   "outputs": [],
   "source": []
  }
 ],
 "metadata": {
  "kernelspec": {
   "display_name": "Python 3",
   "language": "python",
   "name": "python3"
  },
  "language_info": {
   "codemirror_mode": {
    "name": "ipython",
    "version": 3
   },
   "file_extension": ".py",
   "mimetype": "text/x-python",
   "name": "python",
   "nbconvert_exporter": "python",
   "pygments_lexer": "ipython3",
   "version": "3.7.1"
  }
 },
 "nbformat": 4,
 "nbformat_minor": 2
}
